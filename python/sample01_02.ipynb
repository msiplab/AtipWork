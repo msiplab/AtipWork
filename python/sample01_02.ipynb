{
  "nbformat": 4,
  "nbformat_minor": 0,
  "metadata": {
    "orig_nbformat": 2,
    "colab": {
      "name": "sample01_02.ipynb",
      "provenance": [],
      "include_colab_link": true
    },
    "language_info": {
      "name": "python"
    },
    "kernelspec": {
      "name": "python3",
      "display_name": "Python 3"
    }
  },
  "cells": [
    {
      "cell_type": "markdown",
      "metadata": {
        "id": "view-in-github",
        "colab_type": "text"
      },
      "source": [
        "<a href=\"https://colab.research.google.com/github/msiplab/AtipWork/blob/develop/python/sample01_02.ipynb\" target=\"_parent\"><img src=\"https://colab.research.google.com/assets/colab-badge.svg\" alt=\"Open In Colab\"/></a>"
      ]
    },
    {
      "cell_type": "code",
      "metadata": {
        "id": "YXCZuEbrjyfE",
        "outputId": "f03f4cee-f146-4bd4-cc6b-d356f519e147",
        "colab": {
          "base_uri": "https://localhost:8080/"
        }
      },
      "source": [
        "# -*- coding: utf-8 -*-\n",
        "#%% Sample 1-2\n",
        "#%% 画像データの表現\n",
        "# 基本操作 \n",
        "# \n",
        "# 画像処理特論\n",
        "# \n",
        "# 村松 正吾 \n",
        "# \n",
        "# 動作確認: Python 3.7, PyTorch 1.8\n",
        "#%% Digital image representation\n",
        "# Basic operations\n",
        "# \n",
        "# Advanced Topics in Image Processing\n",
        "# \n",
        "# Shogo MURAMATSU\n",
        "# \n",
        "# Verified: Python 3.7, PyTorch 1.8\n",
        "import torch\n",
        "\n",
        "#  行列 $\\mathbf{A}$の定義 \n",
        "# (Definition of matrix $\\mathbf{A}$)\n",
        "# \n",
        "# $$\\mathbf{A}=\\left(\\begin{array}{ll}1 & 2 \\\\ 3 & 4 \\\\ 5 & 6\\end{array}\\right)$$\n",
        "\n",
        "A = torch.tensor([ \\\n",
        "    [ 1, 2 ],\n",
        "    [ 3, 4 ],\n",
        "    [ 5, 6 ] ])\n",
        "A\n",
        "# 行列 $\\mathbf{B}$の定義\n",
        "# (Definition of matrix $\\mathbf{B}$ )\n",
        "# \n",
        "# $$\\mathbf{B}=\\left(\\begin{array}{lll}1 & 2 & 3 \\\\ 4 & 5 & 6\\end{array}\\right)$$\n",
        "\n",
        "B = torch.tensor([ \\\n",
        "    [ 1, 2, 3 ],\n",
        "    [ 4, 5, 6 ] ])\n",
        "B\n",
        "# 行列積の計算\n",
        "# (Matrix product)\n",
        "# \n",
        "# $$\\mathbf{C}=\\mathbf{A B}$$\n",
        "\n",
        "C = A @ B\n",
        "C\n",
        "#%% \n",
        "# © Copyright, Shogo MURAMATSU, All rights reserved.\n"
      ],
      "execution_count": 1,
      "outputs": [
        {
          "output_type": "execute_result",
          "data": {
            "text/plain": [
              "tensor([[ 9, 12, 15],\n",
              "        [19, 26, 33],\n",
              "        [29, 40, 51]])"
            ]
          },
          "metadata": {
            "tags": []
          },
          "execution_count": 1
        }
      ]
    }
  ]
}