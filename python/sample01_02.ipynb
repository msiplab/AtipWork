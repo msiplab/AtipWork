{
  "nbformat": 4,
  "nbformat_minor": 0,
  "metadata": {
    "orig_nbformat": 2,
    "colab": {
      "name": "sample01_02.ipynb",
      "provenance": [],
      "include_colab_link": true
    },
    "language_info": {
      "name": "python"
    },
    "kernelspec": {
      "name": "python3",
      "display_name": "Python 3"
    }
  },
  "cells": [
    {
      "cell_type": "markdown",
      "metadata": {
        "id": "view-in-github",
        "colab_type": "text"
      },
      "source": [
        "<a href=\"https://colab.research.google.com/github/msiplab/AtipWork/blob/develop/python/sample01_02.ipynb\" target=\"_parent\"><img src=\"https://colab.research.google.com/assets/colab-badge.svg\" alt=\"Open In Colab\"/></a>"
      ]
    },
    {
      "cell_type": "code",
      "metadata": {
        "id": "rWeGiECZbXCC"
      },
      "source": [
        "# 基本操作 \n",
        "# \n",
        "# 画像処理特論\n",
        "# \n",
        "# 村松 正吾 \n",
        "# \n",
        "# 動作確認: Python 3.7, PyTorch 1.8"
      ],
      "execution_count": 1,
      "outputs": []
    },
    {
      "cell_type": "code",
      "metadata": {
        "id": "b1ADbFrnbXCD"
      },
      "source": [
        "# Basic operations\n",
        "# \n",
        "# Advanced Topics in Image Processing\n",
        "# \n",
        "# Shogo MURAMATSU\n",
        "# \n",
        "# Verified: Python 3.7, PyTorch 1.8\n",
        "import torch\n"
      ],
      "execution_count": 2,
      "outputs": []
    },
    {
      "cell_type": "code",
      "metadata": {
        "id": "8DlklGFObXCE",
        "outputId": "14ba2274-4cab-4aa5-b96b-50333aced828",
        "colab": {
          "base_uri": "https://localhost:8080/"
        }
      },
      "source": [
        "# (Definition of matrix $\\mathbf{A}$)\n",
        "# \n",
        "# $$\\mathbf{A}=\\left(\\begin{array}{ll}1 & 2 \\\\ 3 & 4 \\\\ 5 & 6\\end{array}\\right)$$\n",
        "\n",
        "A = torch.tensor([ \\\n",
        "    [ 1, 2 ],\n",
        "    [ 3, 4 ],\n",
        "    [ 5, 6 ] ])\n",
        "A"
      ],
      "execution_count": 3,
      "outputs": [
        {
          "output_type": "execute_result",
          "data": {
            "text/plain": [
              "tensor([[1, 2],\n",
              "        [3, 4],\n",
              "        [5, 6]])"
            ]
          },
          "metadata": {
            "tags": []
          },
          "execution_count": 3
        }
      ]
    },
    {
      "cell_type": "code",
      "metadata": {
        "id": "0YH_9DNObXCF",
        "outputId": "d95ceaed-8028-468a-ae0e-3778bbfaa636",
        "colab": {
          "base_uri": "https://localhost:8080/"
        }
      },
      "source": [
        "# (Definition of matrix $\\mathbf{B}$ )\n",
        "# \n",
        "# $$\\mathbf{B}=\\left(\\begin{array}{lll}1 & 2 & 3 \\\\ 4 & 5 & 6\\end{array}\\right)$$\n",
        "\n",
        "B = torch.tensor([ \\\n",
        "    [ 1, 2, 3 ],\n",
        "    [ 4, 5, 6 ] ])\n",
        "B"
      ],
      "execution_count": 4,
      "outputs": [
        {
          "output_type": "execute_result",
          "data": {
            "text/plain": [
              "tensor([[1, 2, 3],\n",
              "        [4, 5, 6]])"
            ]
          },
          "metadata": {
            "tags": []
          },
          "execution_count": 4
        }
      ]
    },
    {
      "cell_type": "code",
      "metadata": {
        "id": "sfw2Vk0YbXCG",
        "outputId": "b196c2f9-e6cf-4d97-aef5-2d86f88615c6",
        "colab": {
          "base_uri": "https://localhost:8080/"
        }
      },
      "source": [
        "# (Matrix product)\n",
        "# \n",
        "# $$\\mathbf{C}=\\mathbf{A B}$$\n",
        "\n",
        "C = A @ B\n",
        "C"
      ],
      "execution_count": 5,
      "outputs": [
        {
          "output_type": "execute_result",
          "data": {
            "text/plain": [
              "tensor([[ 9, 12, 15],\n",
              "        [19, 26, 33],\n",
              "        [29, 40, 51]])"
            ]
          },
          "metadata": {
            "tags": []
          },
          "execution_count": 5
        }
      ]
    },
    {
      "cell_type": "code",
      "metadata": {
        "id": "Cb2hY9bObXCG"
      },
      "source": [
        "# © Copyright, Shogo MURAMATSU, All rights reserved."
      ],
      "execution_count": 6,
      "outputs": []
    }
  ]
}