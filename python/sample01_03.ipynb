{
  "nbformat": 4,
  "nbformat_minor": 0,
  "metadata": {
    "orig_nbformat": 2,
    "colab": {
      "name": "sample01_03.ipynb",
      "provenance": [],
      "include_colab_link": true
    },
    "language_info": {
      "name": "python"
    },
    "kernelspec": {
      "name": "python3",
      "display_name": "Python 3"
    }
  },
  "cells": [
    {
      "cell_type": "markdown",
      "metadata": {
        "id": "view-in-github",
        "colab_type": "text"
      },
      "source": [
        "<a href=\"https://colab.research.google.com/github/msiplab/AtipWork/blob/develop/python/sample01_03.ipynb\" target=\"_parent\"><img src=\"https://colab.research.google.com/assets/colab-badge.svg\" alt=\"Open In Colab\"/></a>"
      ]
    },
    {
      "cell_type": "code",
      "metadata": {
        "colab": {
          "base_uri": "https://localhost:8080/"
        },
        "id": "306crBIOj_X9",
        "outputId": "19274699-2bb2-452a-8913-06f8dc9c5553"
      },
      "source": [
        "# -*- coding: utf-8 -*-\n",
        "#%% Sample 1-3\n",
        "#%% 画像データの表現\n",
        "# FOR ループ\n",
        "# \n",
        "# 画像処理特論\n",
        "# \n",
        "# 村松 正吾 \n",
        "# \n",
        "# 動作確認: Python 3.7, PyTorch 1.8\n",
        "#%% Digital image representation\n",
        "# FOR loop\n",
        "# \n",
        "# Advanced Topics in Image Processing\n",
        "# \n",
        "# Shogo MURAMATSU\n",
        "# \n",
        "# Verified: Python 3.7, PyTorch 1.8\n",
        "# 変数 $s$ の初期化 \n",
        "# (Initialize variable $s$)\n",
        "# \n",
        "# $$s\\leftarrow 0$$\n",
        "\n",
        "s = 0\n",
        "# 累積加算\n",
        "# (Accumulation)\n",
        "# \n",
        "# $$s = \\sum_{k=1}^{10}k$$\n",
        "\n",
        "for k in range(1,11):\n",
        "   s = s + k\n",
        "\n",
        "# 結果の表示\n",
        "# (Display result)\n",
        "\n",
        "s\n",
        "#%% \n",
        "# © Copyright, Shogo MURAMATSU, All rights reserved.\n"
      ],
      "execution_count": 2,
      "outputs": [
        {
          "output_type": "execute_result",
          "data": {
            "text/plain": [
              "55"
            ]
          },
          "metadata": {
            "tags": []
          },
          "execution_count": 2
        }
      ]
    }
  ]
}