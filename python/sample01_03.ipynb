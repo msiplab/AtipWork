{
  "nbformat": 4,
  "nbformat_minor": 0,
  "metadata": {
    "orig_nbformat": 2,
    "colab": {
      "name": "sample01_03.ipynb",
      "provenance": [],
      "include_colab_link": true
    },
    "language_info": {
      "name": "python"
    },
    "kernelspec": {
      "name": "python3",
      "display_name": "Python 3"
    }
  },
  "cells": [
    {
      "cell_type": "markdown",
      "metadata": {
        "id": "view-in-github",
        "colab_type": "text"
      },
      "source": [
        "<a href=\"https://colab.research.google.com/github/msiplab/AtipWork/blob/develop/python/sample01_03.ipynb\" target=\"_parent\"><img src=\"https://colab.research.google.com/assets/colab-badge.svg\" alt=\"Open In Colab\"/></a>"
      ]
    },
    {
      "cell_type": "code",
      "metadata": {
        "id": "5STdj9Z_bgM_"
      },
      "source": [
        "# FOR ループ\n",
        "# \n",
        "# 画像処理特論\n",
        "# \n",
        "# 村松 正吾 \n",
        "# \n",
        "# 動作確認: Python 3.7, PyTorch 1.8"
      ],
      "execution_count": 7,
      "outputs": []
    },
    {
      "cell_type": "code",
      "metadata": {
        "id": "EuefzBurbgNA"
      },
      "source": [
        "# FOR loop\n",
        "# \n",
        "# Advanced Topics in Image Processing\n",
        "# \n",
        "# Shogo MURAMATSU\n",
        "# \n",
        "# Verified: Python 3.7, PyTorch 1.8"
      ],
      "execution_count": 8,
      "outputs": []
    },
    {
      "cell_type": "code",
      "metadata": {
        "id": "DDaDhXsdbgNA"
      },
      "source": [
        "# (Initialize variable $s$)\n",
        "# \n",
        "# $$s\\leftarrow 0$$\n",
        "\n",
        "s = 0"
      ],
      "execution_count": 9,
      "outputs": []
    },
    {
      "cell_type": "code",
      "metadata": {
        "id": "8njPMEyZbgNB"
      },
      "source": [
        "# (Accumulation)\n",
        "# \n",
        "# $$s = \\sum_{k=1}^{10}k$$\n",
        "\n",
        "for k in range(1,11):\n",
        "   s = s + k\n"
      ],
      "execution_count": 10,
      "outputs": []
    },
    {
      "cell_type": "code",
      "metadata": {
        "id": "seqh_8gxbgNB",
        "outputId": "ee811cd8-5c26-43cd-c9d5-1119f26cd4a1",
        "colab": {
          "base_uri": "https://localhost:8080/"
        }
      },
      "source": [
        "# (Display result)\n",
        "\n",
        "s"
      ],
      "execution_count": 11,
      "outputs": [
        {
          "output_type": "execute_result",
          "data": {
            "text/plain": [
              "55"
            ]
          },
          "metadata": {
            "tags": []
          },
          "execution_count": 11
        }
      ]
    },
    {
      "cell_type": "code",
      "metadata": {
        "id": "uVPsnlpfbgNC"
      },
      "source": [
        "# © Copyright, Shogo MURAMATSU, All rights reserved."
      ],
      "execution_count": 12,
      "outputs": []
    }
  ]
}