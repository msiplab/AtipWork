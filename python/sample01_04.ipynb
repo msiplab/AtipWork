{
  "nbformat": 4,
  "nbformat_minor": 0,
  "metadata": {
    "orig_nbformat": 2,
    "colab": {
      "name": "sample01_04.ipynb",
      "provenance": [],
      "include_colab_link": true
    },
    "language_info": {
      "name": "python"
    },
    "kernelspec": {
      "name": "python3",
      "display_name": "Python 3"
    }
  },
  "cells": [
    {
      "cell_type": "markdown",
      "metadata": {
        "id": "view-in-github",
        "colab_type": "text"
      },
      "source": [
        "<a href=\"https://colab.research.google.com/github/msiplab/AtipWork/blob/develop/python/sample01_04.ipynb\" target=\"_parent\"><img src=\"https://colab.research.google.com/assets/colab-badge.svg\" alt=\"Open In Colab\"/></a>"
      ]
    },
    {
      "cell_type": "code",
      "metadata": {
        "id": "3AcVSPHlloUG",
        "outputId": "7e18cef8-e34c-4741-dc1b-7b01e1765a50",
        "colab": {
          "base_uri": "https://localhost:8080/"
        }
      },
      "source": [
        "# -*- coding: utf-8 -*-\n",
        "#%% Sample 1-4\n",
        "#%% 画像データの表現\n",
        "# 配列の生成\n",
        "# \n",
        "# 画像処理特論\n",
        "# \n",
        "# 村松 正吾 \n",
        "# \n",
        "# 動作確認: Python 3.7, PyTorch 1.8\n",
        "#%% Digital image representation\n",
        "# Creation of arrays\n",
        "# \n",
        "# Advanced Topics in Image Processing\n",
        "# \n",
        "# Shogo MURAMATSU\n",
        "# \n",
        "# Verified: Python 3.7, PyTorch 1.8\n",
        "import torch\n",
        "# ワークスペースのクリア\n",
        "# (Clear workspace)\n",
        "#clear\n",
        "\n",
        "# 全ての要素が零の配列の生成\n",
        "# (Create array of all zeros)\n",
        "\n",
        "X = torch.zeros(2,3) # zeros array of size 2x3\n",
        "# 全ての要素が１の配列の生成\n",
        "# (Create array of all ones)\n",
        "\n",
        "Y = torch.ones(3,4) # ones array of size 3x4\n",
        "# ランダム配列の生成\n",
        "# (Create array of random numbers)\n",
        "\n",
        "Z = torch.rand(2,3,4) # random array of size 2x3x4\n",
        "# 配列のサイズ\n",
        "# (Array size)\n",
        "\n",
        "print('Size of X')\n",
        "print(X.size())\n",
        "\n",
        "print('Size of Y')\n",
        "print(Y.size())\n",
        "\n",
        "print('Size of Z')\n",
        "print(Z.size())\n",
        "# 配列のタイプ\n",
        "# (Array type)\n",
        "\n",
        "print('Type of X')\n",
        "print(X.dtype)\n",
        "\n",
        "L = torch.zeros(2,3,dtype=torch.bool)\n",
        "print('Type of L')\n",
        "print(L.dtype)\n",
        "\n",
        "U = torch.zeros(2,3,dtype=torch.uint8)\n",
        "print('Type of U')\n",
        "print(U.dtype)\n",
        "\n",
        "I = torch.zeros(2,3,dtype=torch.int16)\n",
        "print('Type of I')\n",
        "print(I.dtype)\n",
        "\n",
        "S = torch.zeros(2,3,dtype=torch.float)\n",
        "print('Type of S')\n",
        "print(S.dtype)\n",
        "# ワークスペース内の変数のリスト\n",
        "# (List variables in workspace)\n",
        "\n",
        "#whos\n",
        "#%% \n",
        "# © Copyright, Shogo MURAMATSU, All rights reserved.\n"
      ],
      "execution_count": 3,
      "outputs": [
        {
          "output_type": "stream",
          "text": [
            "Size of X\n",
            "torch.Size([2, 3])\n",
            "Size of Y\n",
            "torch.Size([3, 4])\n",
            "Size of Z\n",
            "torch.Size([2, 3, 4])\n",
            "Type of X\n",
            "torch.float32\n",
            "Type of L\n",
            "torch.bool\n",
            "Type of U\n",
            "torch.uint8\n",
            "Type of I\n",
            "torch.int16\n",
            "Type of S\n",
            "torch.float32\n"
          ],
          "name": "stdout"
        }
      ]
    }
  ]
}