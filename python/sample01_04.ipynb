{
  "nbformat": 4,
  "nbformat_minor": 0,
  "metadata": {
    "orig_nbformat": 2,
    "colab": {
      "name": "sample01_04.ipynb",
      "provenance": [],
      "include_colab_link": true
    },
    "language_info": {
      "name": "python"
    },
    "kernelspec": {
      "name": "python3",
      "display_name": "Python 3"
    }
  },
  "cells": [
    {
      "cell_type": "markdown",
      "metadata": {
        "id": "view-in-github",
        "colab_type": "text"
      },
      "source": [
        "<a href=\"https://colab.research.google.com/github/msiplab/AtipWork/blob/develop/python/sample01_04.ipynb\" target=\"_parent\"><img src=\"https://colab.research.google.com/assets/colab-badge.svg\" alt=\"Open In Colab\"/></a>"
      ]
    },
    {
      "cell_type": "code",
      "metadata": {
        "id": "ASravSQCbwSi"
      },
      "source": [
        "# 配列の生成\n",
        "# \n",
        "# 画像処理特論\n",
        "# \n",
        "# 村松 正吾 \n",
        "# \n",
        "# 動作確認: Python 3.7, PyTorch 1.8"
      ],
      "execution_count": 1,
      "outputs": []
    },
    {
      "cell_type": "code",
      "metadata": {
        "id": "oFFz5YQDbwSj"
      },
      "source": [
        "# Creation of arrays\n",
        "# \n",
        "# Advanced Topics in Image Processing\n",
        "# \n",
        "# Shogo MURAMATSU\n",
        "# \n",
        "# Verified: Python 3.7, PyTorch 1.8\n",
        "import torch"
      ],
      "execution_count": 2,
      "outputs": []
    },
    {
      "cell_type": "code",
      "metadata": {
        "id": "jlXxEPUHbwSk"
      },
      "source": [
        "# (Clear workspace)\n",
        "#clear\n"
      ],
      "execution_count": 3,
      "outputs": []
    },
    {
      "cell_type": "code",
      "metadata": {
        "id": "Jn8ylcEkbwSl"
      },
      "source": [
        "# (Create array of all zeros)\n",
        "\n",
        "X = torch.zeros(2,3) # zeros array of size 2x3"
      ],
      "execution_count": 4,
      "outputs": []
    },
    {
      "cell_type": "code",
      "metadata": {
        "id": "neiZhW5RbwSl"
      },
      "source": [
        "# (Create array of all ones)\n",
        "\n",
        "Y = torch.ones(3,4) # ones array of size 3x4"
      ],
      "execution_count": 5,
      "outputs": []
    },
    {
      "cell_type": "code",
      "metadata": {
        "id": "2ziYUgvwbwSm"
      },
      "source": [
        "# (Create array of random numbers)\n",
        "\n",
        "Z = torch.rand(2,3,4) # random array of size 2x3x4"
      ],
      "execution_count": 6,
      "outputs": []
    },
    {
      "cell_type": "code",
      "metadata": {
        "id": "HFweSzUBbwSn",
        "outputId": "1eb9fc94-a6e1-4dba-b54e-6e59d484bbca",
        "colab": {
          "base_uri": "https://localhost:8080/"
        }
      },
      "source": [
        "# (Array size)\n",
        "\n",
        "print('Size of X')\n",
        "print(X.size())\n",
        "\n",
        "print('Size of Y')\n",
        "print(Y.size())\n",
        "\n",
        "print('Size of Z')\n",
        "print(Z.size())"
      ],
      "execution_count": 7,
      "outputs": [
        {
          "output_type": "stream",
          "text": [
            "Size of X\n",
            "torch.Size([2, 3])\n",
            "Size of Y\n",
            "torch.Size([3, 4])\n",
            "Size of Z\n",
            "torch.Size([2, 3, 4])\n"
          ],
          "name": "stdout"
        }
      ]
    },
    {
      "cell_type": "code",
      "metadata": {
        "id": "5i1_z0FqbwSn",
        "outputId": "619779cc-d36e-4963-bef6-a5f9cd5752c9",
        "colab": {
          "base_uri": "https://localhost:8080/"
        }
      },
      "source": [
        "# (Array type)\n",
        "\n",
        "print('Type of X')\n",
        "print(X.dtype)\n",
        "\n",
        "L = torch.zeros(2,3,dtype=torch.bool)\n",
        "print('Type of L')\n",
        "print(L.dtype)\n",
        "\n",
        "U = torch.zeros(2,3,dtype=torch.uint8)\n",
        "print('Type of U')\n",
        "print(U.dtype)\n",
        "\n",
        "I = torch.zeros(2,3,dtype=torch.int16)\n",
        "print('Type of I')\n",
        "print(I.dtype)\n",
        "\n",
        "S = torch.zeros(2,3,dtype=torch.float)\n",
        "print('Type of S')\n",
        "print(S.dtype)"
      ],
      "execution_count": 8,
      "outputs": [
        {
          "output_type": "stream",
          "text": [
            "Type of X\n",
            "torch.float32\n",
            "Type of L\n",
            "torch.bool\n",
            "Type of U\n",
            "torch.uint8\n",
            "Type of I\n",
            "torch.int16\n",
            "Type of S\n",
            "torch.float32\n"
          ],
          "name": "stdout"
        }
      ]
    },
    {
      "cell_type": "code",
      "metadata": {
        "id": "znNrNJ4vbwSo"
      },
      "source": [
        "# (List variables in workspace)\n",
        "\n",
        "#whos"
      ],
      "execution_count": 9,
      "outputs": []
    },
    {
      "cell_type": "code",
      "metadata": {
        "id": "oS1FZP83bwSo"
      },
      "source": [
        "# © Copyright, Shogo MURAMATSU, All rights reserved."
      ],
      "execution_count": 10,
      "outputs": []
    }
  ]
}