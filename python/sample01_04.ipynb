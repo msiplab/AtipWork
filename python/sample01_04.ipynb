{
  "nbformat": 4,
  "nbformat_minor": 0,
  "metadata": {
    "language_info": {
      "codemirror_mode": {
        "name": "ipython",
        "version": 3
      },
      "file_extension": ".py",
      "mimetype": "text/x-python",
      "name": "python",
      "nbconvert_exporter": "python",
      "pygments_lexer": "ipython3",
      "version": "3.8.3-final"
    },
    "orig_nbformat": 2,
    "kernelspec": {
      "name": "python38364bit1d4e77b0d338471d9f942cbdbc93c5bf",
      "display_name": "Python 3.8.3 64-bit"
    },
    "metadata": {
      "interpreter": {
        "hash": "06ab0cd92abf1e88c82b126842c9f6a803b0d01f3f3ee1a7886f07705a5e6b42"
      }
    },
    "colab": {
      "name": "sample01_04.ipynb",
      "provenance": [],
      "include_colab_link": true
    },
    "accelerator": "GPU"
  },
  "cells": [
    {
      "cell_type": "markdown",
      "metadata": {
        "id": "view-in-github",
        "colab_type": "text"
      },
      "source": [
        "<a href=\"https://colab.research.google.com/github/msiplab/AtipWork/blob/develop/python/sample01_04.ipynb\" target=\"_parent\"><img src=\"https://colab.research.google.com/assets/colab-badge.svg\" alt=\"Open In Colab\"/></a>"
      ]
    },
    {
      "cell_type": "code",
      "metadata": {
        "id": "kZQjUPoQSm9K",
        "outputId": "9eb8c7a3-3097-44a4-d062-5a056c728a8f",
        "colab": {
          "base_uri": "https://localhost:8080/"
        }
      },
      "source": [
        "## Sample 1-4\n",
        "## 画像データの表現\n",
        "# 配列の生成\n",
        "# \n",
        "# 画像処理特論\n",
        "# \n",
        "# 村松 正吾 \n",
        "# \n",
        "# 動作確認: \n",
        "## Digital image representation\n",
        "# Creation of arrays\n",
        "# \n",
        "# Advanced Topics in Image Processing\n",
        "# \n",
        "# Shogo MURAMATSU\n",
        "# \n",
        "# Verified: Python 3.8, PyTorch 1.8\n",
        "import torch\n",
        "# ワークスペースのクリア\n",
        "# (Clear workspace)\n",
        "#clear\n",
        "\n",
        "# 全ての要素が零の配列の生成\n",
        "# (Create array of all zeros)\n",
        "\n",
        "X = torch.zeros(2,3) # zeros array of size 2x3\n",
        "# 全ての要素が１の配列の生成\n",
        "# (Create array of all ones)\n",
        "\n",
        "Y = torch.ones(3,4) # ones array of size 3x4\n",
        "# ランダム配列の生成\n",
        "# (Create array of random numbers)\n",
        "\n",
        "Z = torch.rand(2,3,4) # random array of size 2x3x4\n",
        "# 配列のサイズ\n",
        "# (Array size)\n",
        "\n",
        "print('Size of X')\n",
        "X.size()\n",
        "\n",
        "print('Size of Y')\n",
        "Y.size()\n",
        "\n",
        "print('Size of Z')\n",
        "Z.size()\n",
        "# 配列のタイプ\n",
        "# (Array type)\n",
        "\n",
        "print('Type of X')\n",
        "print(X.dtype)\n",
        "\n",
        "L = torch.zeros(2,3,dtype=torch.bool)\n",
        "print('Type of L')\n",
        "print(L.dtype)\n",
        "\n",
        "U = torch.zeros(2,3,dtype=torch.uint8)\n",
        "print('Type of U')\n",
        "print(U.dtype)\n",
        "\n",
        "I = torch.zeros(2,3,dtype=torch.int16)\n",
        "print('Type of I')\n",
        "print(I.dtype)\n",
        "\n",
        "S = torch.zeros(2,3,dtype=torch.float)\n",
        "print('Type of S')\n",
        "print(S.dtype)\n",
        "# ワークスペース内の変数のリスト\n",
        "# (List variables in workspace)\n",
        "\n",
        "#whos\n",
        "## \n",
        "# © Copyright, Shogo MURAMATSU, All rights reserved.\n"
      ],
      "execution_count": 2,
      "outputs": [
        {
          "output_type": "stream",
          "text": [
            "Size of X\n",
            "Size of Y\n",
            "Size of Z\n",
            "Type of X\n",
            "torch.float32\n",
            "Type of L\n",
            "torch.bool\n",
            "Type of U\n",
            "torch.uint8\n",
            "Type of I\n",
            "torch.int16\n",
            "Type of S\n",
            "torch.float32\n"
          ],
          "name": "stdout"
        }
      ]
    }
  ]
}