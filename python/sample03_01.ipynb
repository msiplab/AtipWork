{
  "nbformat": 4,
  "nbformat_minor": 0,
  "metadata": {
    "orig_nbformat": 2,
    "colab": {
      "name": "sample03_01.ipynb",
      "provenance": [],
      "include_colab_link": true
    },
    "language_info": {
      "name": "python"
    },
    "kernelspec": {
      "name": "python3",
      "display_name": "Python 3"
    }
  },
  "cells": [
    {
      "cell_type": "markdown",
      "metadata": {
        "id": "view-in-github",
        "colab_type": "text"
      },
      "source": [
        "<a href=\"https://colab.research.google.com/github/msiplab/AtipWork/blob/develop/python/sample03_01.ipynb\" target=\"_parent\"><img src=\"https://colab.research.google.com/assets/colab-badge.svg\" alt=\"Open In Colab\"/></a>"
      ]
    },
    {
      "cell_type": "code",
      "metadata": {
        "id": "LGQnWPNtXLgN",
        "outputId": "8fc55e32-c490-4a8b-8b93-ef7204df95fb",
        "colab": {
          "base_uri": "https://localhost:8080/",
          "height": 1000
        }
      },
      "source": [
        "\n",
        "# -*- coding: utf-8 -*-\n",
        "#%% Sample 3-1\n",
        "#%% 平滑化／先鋭化処理\n",
        "# 内積とノルム \n",
        "# \n",
        "# 画像処理特論\n",
        "# \n",
        "# 村松 正吾 \n",
        "# \n",
        "# 動作確認: Python 3.7, PyTorch 1.8\n",
        "#%% Image smoothing/sharpening\n",
        "# Inner product and norm\n",
        "# \n",
        "# Advanced Topics in Image Processing\n",
        "# \n",
        "# Shogo MURAMATSU\n",
        "# \n",
        "# Verified: Python 3.7, PyTorch 1.8\n",
        "# 準備\n",
        "# (Preparation)\n",
        "import torch\n",
        "import torchvision\n",
        "from matplotlib import pyplot as plt\n",
        "\n",
        "#%% $N$次元ベクトルの内積\n",
        "# (Inner product of $N$-dimensional vectors)\n",
        "# \n",
        "# $$\\langle \\mathbf{u},\\mathbf{v}\\rangle=\\sum_{i=0}^{N-1}u_{i}v_{i}$$\n",
        "# \n",
        "# ただし， $u_i, v_i$はベクトル $\\mathbf{u}, \\mathbf{v}\\in\\mathbb{R}^{N}$ の $i$-番目要素 \n",
        "# $[\\mathbf{u}]_i,$$[\\mathbf{v}]_i$。\n",
        "# \n",
        "# (where $u_i, v_i$ are the $i$-th element of vector $\\mathbf{u}, \\mathbf{v}\\in\\mathbb{R}^{N}$ \n",
        "# , i.e.,  $[\\mathbf{u}]_i,$$[\\mathbf{v}]_i$, respectively.)\n",
        "\n",
        "# Generate an two-dimensional vector u \n",
        "u1 = -1\n",
        "u2 = 1\n",
        "u = torch.tensor([u1, u2]).T\n",
        "# Generate an two-dimensional vector v \n",
        "v1 = 1\n",
        "v2 = 1\n",
        "v = torch.tensor([v1, v2]).T\n",
        "# Inner product of vectors u and v\n",
        "innerprod = torch.dot(u,v)\n",
        "print('<u,v> = %d'%innerprod)\n",
        "# Plot vector v with the contour plot of lp-norm\n",
        "\n",
        "plt.figure(1)\n",
        "V = torch.cat((u.unsqueeze(1),v.unsqueeze(1)),1)\n",
        "origin = torch.zeros(2,2)\n",
        "plt.quiver(*origin,V[0,:],V[1,:],angles='xy',scale_units='xy',scale=1)\n",
        "plt.title('Vectors u and v')\n",
        "plt.xlabel('u_1, v_1')\n",
        "plt.ylabel('u_2, v_2')\n",
        "plt.axis('equal')\n",
        "plt.xlim(-3,3)\n",
        "plt.ylim(-3,3)\n",
        "plt.grid()\n",
        "plt.show()\n",
        "#%% ベクトルとしてみた$N_1 \\times N_2$配列の 内積\n",
        "# (Inner product of $N_1 \\times N_2$ arrays as vector)\n",
        "# \n",
        "# $$\\langle\\mathbf{u},\\mathbf{v}\\rangle=\\sum_{j=0}^{N_2-1}\\sum_{i=0}^{N_1-1}u_{i,j}v_{i,j}$$\n",
        "# \n",
        "# ただし， $u_{i,j}, v_{i,j}$はベクトル $\\mathbf{u}, \\mathbf{v}\\in\\mathbb{R}^{N_1\\times \n",
        "# N_2}$ の $i,j$-番目要素 $[\\mathbf{u}]_{i,j},[\\mathbf{v}]_{i,j}$。\n",
        "# \n",
        "# ( where $u_{i,j}, v_{i,j}$ are the $i,j$-th element of vector $\\mathbf{u}, \n",
        "# \\mathbf{v}\\in\\mathbb{R}^{N}$ , i.e.,  $[\\mathbf{u}]_{i,j},[\\mathbf{v}]_{i,j}$, \n",
        "# respectively.)\n",
        "\n",
        "# Array dimension\n",
        "ndim1 = 2\n",
        "ndim2 = 2\n",
        "# Generate a N1xN2 arrya v with normally distributed random numbers\n",
        "u = torch.randn(ndim1,ndim2)\n",
        "v = torch.randn(ndim1,ndim2)\n",
        "# Visualization of array u\n",
        "topilimg = torchvision.transforms.ToPILImage()\n",
        "plt.figure(2)\n",
        "plt.subplot(121)\n",
        "plt.imshow(topilimg(u),cmap='gray')\n",
        "plt.clim(0,255)\n",
        "plt.title('Array u')\n",
        "plt.colorbar()\n",
        "plt.axis('off')\n",
        "\n",
        "# Visualization of array v\n",
        "plt.subplot(122)\n",
        "plt.imshow(topilimg(v),cmap='gray')\n",
        "plt.clim(0,255)\n",
        "plt.title('Array v')\n",
        "plt.colorbar()\n",
        "plt.axis('off')\n",
        "plt.show()\n",
        "#%%\n",
        "# Inner product of arrays u and v as vectors\n",
        "innerprod = u.view(-1).dot(v.view(-1))\n",
        "print('<u,v> = %f'%innerprod)\n",
        "\n",
        "#%% $N$次元ベクトルの $\\ell_p$-ノルム\n",
        "# ($\\ell_p$-norm of a $N$-dimensional vector)\n",
        "# \n",
        "# $$\\|\\mathbf{v}\\|_{p}=\\left(\\sum_{i=0}^{N-1}\\left|v_{i}\\right|^{p}\\right)^{\\frac{1}{p}}$$\n",
        "# \n",
        "# ただし， $v_i$はベクトル $\\mathbf{v}\\in\\mathbb{R}^{N}$ の $i$-番目要素 $[\\mathbf{v}]_i$。\n",
        "# \n",
        "# (where $v_i$ stands for the $i$-th element of vector $\\mathbf{v}\\in\\mathbb{R}^{N}$ \n",
        "# , i.e.,  $[\\mathbf{v}]_i$.)\n",
        "\n",
        "# Generate an two-dimensional vector v \n",
        "v1 = 1.\n",
        "v2 = 1.\n",
        "v = torch.tensor([v1, v2]).T\n",
        "# Setting of parameter p\n",
        "p = 1\n",
        "\n",
        "# lp-norm of v\n",
        "lpnorm = v.norm(p=p)\n",
        "print('||v||_%d = %f'%(p,lpnorm))\n",
        "# Plot vector v with the contour plot of lp-norm\n",
        "plt.figure(3)\n",
        "origin = torch.zeros(2,2)\n",
        "plt.quiver(*origin,v[0],v[1],angles='xy',scale_units='xy',scale=1)\n",
        "plt.title('Vector v')\n",
        "plt.xlabel('v_1')\n",
        "plt.ylabel('v_2')\n",
        "plt.axis('equal')\n",
        "plt.xlim([-3, 3])\n",
        "plt.ylim([-3, 3])\n",
        "plt.grid()\n",
        "\n",
        "\n",
        "# Contour plot of lp-norm\n",
        "delta = 1/40.\n",
        "x = torch.arange(-3.,3.,delta)\n",
        "y = torch.arange(-3.,3.,delta)\n",
        "X, Y = torch.meshgrid(x,y)\n",
        "Z = (abs(X)**p+abs(Y)**p)**(1./p)\n",
        "#fcontour(@(v1,v2) vecnorm([v1(:) v2(:)].',p),[-3 3 -3 3])\n",
        "plt.contour(X, Y, Z)\n",
        "plt.colorbar()\n",
        "plt.show()\n",
        "\n",
        "# ベクトルとしてみた$N_1 \\times N_2$配列の $\\ell_p$-ノルム\n",
        "# ($\\ell_p$-norm of a $N_1 \\times N_2$ array as a vector)\n",
        "# \n",
        "# $$\\|\\mathbf{v}\\|_{p}=\\left(\\sum_{j=0}^{N_2-1}\\sum_{i=0}^{N_1-1}\\left|v_{i,j}\\right|^{p}\\right)^{\\frac{1}{p}}$$\n",
        "# \n",
        "# ただし， $v_{i,j}$はベクトルとしてみた配列 $\\mathbf{v}\\in\\mathbb{R}^{N_1\\times N_2}$ の $i,j$-番目要素 \n",
        "# $[\\mathbf{v}]_{i,j}$。\n",
        "# \n",
        "# (where $v_{i,j}$ stands for the $i,j$-th element of array $\\mathbf{v}$ as \n",
        "# a vector, i.e.,  $[\\mathbf{v}]_{i,j}$.)\n",
        "\n",
        "# Array dimension\n",
        "ndim1 = 2\n",
        "ndim2 = 2\n",
        "# Generate a N1xN2 arrya v with normally distributed random numbers\n",
        "v = torch.randn(ndim1,ndim2)\n",
        "# Visualization of array v\n",
        "plt.figure(4)\n",
        "plt.imshow(topilimg(v),cmap='gray')\n",
        "plt.title('Array v')\n",
        "plt.colorbar()\n",
        "plt.axis('equal')\n",
        "plt.axis('off')\n",
        "plt.show()\n",
        "#%%\n",
        "# Setting of parameter p\n",
        "p = 1\n",
        "\n",
        "# lp-(element-wise) norm of v\n",
        "lpnorm = torch.linalg.norm(v.view(-1),ord=p)\n",
        "print('||v||_%d = %f'%(p,lpnorm))\n",
        "#%% \n",
        "# © Copyright, Shogo MURAMATSU, All rights reserved.\n"
      ],
      "execution_count": 1,
      "outputs": [
        {
          "output_type": "stream",
          "text": [
            "<u,v> = 0\n"
          ],
          "name": "stdout"
        },
        {
          "output_type": "display_data",
          "data": {
            "image/png": "[encoded data removed]",
            "text/plain": [
              "<Figure size 432x288 with 1 Axes>"
            ]
          },
          "metadata": {
            "tags": [],
            "needs_background": "light"
          }
        },
        {
          "output_type": "display_data",
          "data": {
            "image/png": "[encoded data removed]",
            "text/plain": [
              "<Figure size 432x288 with 4 Axes>"
            ]
          },
          "metadata": {
            "tags": [],
            "needs_background": "light"
          }
        },
        {
          "output_type": "stream",
          "text": [
            "<u,v> = -0.713238\n",
            "||v||_1 = 2.000000\n"
          ],
          "name": "stdout"
        },
        {
          "output_type": "display_data",
          "data": {
            "image/png": "[encoded data removed]",
            "text/plain": [
              "<Figure size 432x288 with 2 Axes>"
            ]
          },
          "metadata": {
            "tags": [],
            "needs_background": "light"
          }
        },
        {
          "output_type": "display_data",
          "data": {
            "image/png": "[encoded data removed]",
            "text/plain": [
              "<Figure size 432x288 with 2 Axes>"
            ]
          },
          "metadata": {
            "tags": [],
            "needs_background": "light"
          }
        },
        {
          "output_type": "stream",
          "text": [
            "||v||_1 = 3.523187\n"
          ],
          "name": "stdout"
        }
      ]
    }
  ]
}